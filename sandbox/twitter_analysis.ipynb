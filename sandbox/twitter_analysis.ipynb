{
 "cells": [
  {
   "cell_type": "code",
   "execution_count": 1,
   "metadata": {},
   "outputs": [],
   "source": [
    "from pymongo import MongoClient\n",
    "import pandas as pd\n",
    "import re\n",
    "from collections import Counter\n",
    "from nltk.corpus import stopwords\n",
    "import matplotlib.pyplot as plt\n",
    "from sklearn.decomposition import LatentDirichletAllocation\n",
    "\n",
    "%matplotlib inline"
   ]
  },
  {
   "cell_type": "code",
   "execution_count": 2,
   "metadata": {},
   "outputs": [],
   "source": [
    "MONGO_HOST= 'mongodb://localhost/twitter'\n",
    "client = MongoClient(MONGO_HOST)\n",
    "tweet_data = client.twitter.collections.tweets.find()"
   ]
  },
  {
   "cell_type": "code",
   "execution_count": 3,
   "metadata": {},
   "outputs": [],
   "source": [
    "tweet_data = pd.DataFrame(list(tweet_data))"
   ]
  },
  {
   "cell_type": "code",
   "execution_count": 4,
   "metadata": {},
   "outputs": [
    {
     "data": {
      "text/html": [
       "<div>\n",
       "<style scoped>\n",
       "    .dataframe tbody tr th:only-of-type {\n",
       "        vertical-align: middle;\n",
       "    }\n",
       "\n",
       "    .dataframe tbody tr th {\n",
       "        vertical-align: top;\n",
       "    }\n",
       "\n",
       "    .dataframe thead th {\n",
       "        text-align: right;\n",
       "    }\n",
       "</style>\n",
       "<table border=\"1\" class=\"dataframe\">\n",
       "  <thead>\n",
       "    <tr style=\"text-align: right;\">\n",
       "      <th></th>\n",
       "      <th>_id</th>\n",
       "      <th>created_at</th>\n",
       "      <th>favorites</th>\n",
       "      <th>followers</th>\n",
       "      <th>hashtags</th>\n",
       "      <th>id</th>\n",
       "      <th>retweets</th>\n",
       "      <th>text</th>\n",
       "      <th>user_favorites_count</th>\n",
       "      <th>username</th>\n",
       "    </tr>\n",
       "  </thead>\n",
       "  <tbody>\n",
       "    <tr>\n",
       "      <th>0</th>\n",
       "      <td>5ba10b53f30ccd182428462d</td>\n",
       "      <td>Tue Sep 18 13:29:45 +0000 2018</td>\n",
       "      <td>0</td>\n",
       "      <td>940</td>\n",
       "      <td>[]</td>\n",
       "      <td>1042042998236868611</td>\n",
       "      <td>0</td>\n",
       "      <td>Sheba Entertainment launches Artiste X-ray Art...</td>\n",
       "      <td>50</td>\n",
       "      <td>chaseymania</td>\n",
       "    </tr>\n",
       "    <tr>\n",
       "      <th>1</th>\n",
       "      <td>5ba10b53f30ccd182428462e</td>\n",
       "      <td>Tue Sep 18 13:29:46 +0000 2018</td>\n",
       "      <td>0</td>\n",
       "      <td>771</td>\n",
       "      <td>[]</td>\n",
       "      <td>1042043002066104320</td>\n",
       "      <td>0</td>\n",
       "      <td>@Erophunk909 Artificial intelligence that gene...</td>\n",
       "      <td>4149</td>\n",
       "      <td>bach_chas</td>\n",
       "    </tr>\n",
       "  </tbody>\n",
       "</table>\n",
       "</div>"
      ],
      "text/plain": [
       "                        _id                      created_at  favorites  \\\n",
       "0  5ba10b53f30ccd182428462d  Tue Sep 18 13:29:45 +0000 2018          0   \n",
       "1  5ba10b53f30ccd182428462e  Tue Sep 18 13:29:46 +0000 2018          0   \n",
       "\n",
       "   followers hashtags                   id  retweets  \\\n",
       "0        940       []  1042042998236868611         0   \n",
       "1        771       []  1042043002066104320         0   \n",
       "\n",
       "                                                text  user_favorites_count  \\\n",
       "0  Sheba Entertainment launches Artiste X-ray Art...                    50   \n",
       "1  @Erophunk909 Artificial intelligence that gene...                  4149   \n",
       "\n",
       "      username  \n",
       "0  chaseymania  \n",
       "1    bach_chas  "
      ]
     },
     "execution_count": 4,
     "metadata": {},
     "output_type": "execute_result"
    }
   ],
   "source": [
    "tweet_data.head(2)"
   ]
  },
  {
   "cell_type": "code",
   "execution_count": 5,
   "metadata": {},
   "outputs": [
    {
     "data": {
      "text/plain": [
       "count      1000.00000\n",
       "mean       9281.10300\n",
       "std       39443.28754\n",
       "min           0.00000\n",
       "25%         172.00000\n",
       "50%         867.00000\n",
       "75%        4632.25000\n",
       "max      525364.00000\n",
       "Name: followers, dtype: float64"
      ]
     },
     "execution_count": 5,
     "metadata": {},
     "output_type": "execute_result"
    }
   ],
   "source": [
    "tweet_data['followers'].describe()"
   ]
  },
  {
   "cell_type": "code",
   "execution_count": 6,
   "metadata": {},
   "outputs": [
    {
     "data": {
      "text/plain": [
       "count                               1000\n",
       "unique                               823\n",
       "top       Tue Sep 18 14:00:01 +0000 2018\n",
       "freq                                   7\n",
       "Name: created_at, dtype: object"
      ]
     },
     "execution_count": 6,
     "metadata": {},
     "output_type": "execute_result"
    }
   ],
   "source": [
    "tweet_data['created_at'].describe()"
   ]
  },
  {
   "cell_type": "code",
   "execution_count": 22,
   "metadata": {},
   "outputs": [],
   "source": [
    "# extract only the words and edit them for word frequency\n",
    "tweets_text = \" \".join(line.strip() for line in tweet_data['text'])  \n",
    "tweets_text = re.sub(\"\\W\", ' ', tweets_text)\n",
    "stop = stopwords.words('english')\n",
    "newStopWords = ['https', 'how', 'big', 'co', 'via', 'the', 'I', 'will', 'amp', 'a', 'you', 'we']\n",
    "stop.extend(newStopWords)\n",
    "\n",
    "tokens = [word.lower() for word in tweets_text.split( )]\n",
    "tokens = [words for words in tokens if words not in stop]\n"
   ]
  },
  {
   "cell_type": "code",
   "execution_count": 23,
   "metadata": {},
   "outputs": [],
   "source": [
    "common_words = Counter(tokens).most_common(40)"
   ]
  },
  {
   "cell_type": "code",
   "execution_count": 24,
   "metadata": {},
   "outputs": [
    {
     "data": {
      "text/plain": [
       "<matplotlib.axes._subplots.AxesSubplot at 0x1bdaaf98>"
      ]
     },
     "execution_count": 24,
     "metadata": {},
     "output_type": "execute_result"
    },
    {
     "data": {
      "image/png": "[encoded data removed]",
      "text/plain": [
       "<Figure size 1080x360 with 1 Axes>"
      ]
     },
     "metadata": {},
     "output_type": "display_data"
    }
   ],
   "source": [
    "common_words_df = pd.DataFrame(common_words, columns = ['Word', 'Count'])\n",
    "common_words_df.plot.bar(x='Word',y='Count', figsize=(15,5))"
   ]
  },
  {
   "cell_type": "code",
   "execution_count": 52,
   "metadata": {},
   "outputs": [],
   "source": [
    "tweet_tokens = []\n",
    "def preprocessing(text):\n",
    "    tokens = [word.lower() for word in text.split( )]\n",
    "    # remove stopwords\n",
    "    stop = stopwords.words('english')\n",
    "    tokens = [token for token in tokens if token not in stop]\n",
    "    # lower capitalization\n",
    "    tokens = [word.lower() for word in tokens]\n",
    "    # get rid of @name and #s\n",
    "    tokens = [re.sub(\"(@[A-Za-z0-9]+)|([^0-9A-Za-z \\t])|(\\w+:\\/\\/\\S+)\",\"\", word) for word in tokens]\n",
    "    tokens = [re.sub(\"http\\S+\", \"\", word) for word in tokens]\n",
    "    preprocessed_text = ' '.join(tokens)\n",
    "    tweet_tokens.append(preprocessed_text)"
   ]
  },
  {
   "cell_type": "code",
   "execution_count": 53,
   "metadata": {},
   "outputs": [],
   "source": [
    "tweets = tweet_data['text']\n",
    "for tweet in tweets:\n",
    "    preprocessing(tweet)"
   ]
  },
  {
   "cell_type": "code",
   "execution_count": 54,
   "metadata": {},
   "outputs": [
    {
     "data": {
      "text/plain": [
       "{'': 1,\n",
       " 'artificial': 1,\n",
       " 'intelligence': 1,\n",
       " 'generates': 1,\n",
       " 'human': 1,\n",
       " 'language': 1,\n",
       " 'sounds': 1}"
      ]
     },
     "execution_count": 54,
     "metadata": {},
     "output_type": "execute_result"
    }
   ],
   "source": [
    "tweet_counts = []\n",
    "for tweet in tweet_tokens:\n",
    "    count = {}\n",
    "    for word in tweet.split(' '):\n",
    "        if word not in count:\n",
    "            count[word] = 1\n",
    "        else:\n",
    "            count[word] += 1\n",
    "    tweet_counts.append(count)\n",
    "\n",
    "tweet_counts[1]"
   ]
  },
  {
   "cell_type": "code",
   "execution_count": 56,
   "metadata": {},
   "outputs": [],
   "source": [
    "mini_corpus = pd.DataFrame(tweet_counts)"
   ]
  },
  {
   "cell_type": "code",
   "execution_count": 59,
   "metadata": {},
   "outputs": [
    {
     "data": {
      "text/html": [
       "<div>\n",
       "<style scoped>\n",
       "    .dataframe tbody tr th:only-of-type {\n",
       "        vertical-align: middle;\n",
       "    }\n",
       "\n",
       "    .dataframe tbody tr th {\n",
       "        vertical-align: top;\n",
       "    }\n",
       "\n",
       "    .dataframe thead th {\n",
       "        text-align: right;\n",
       "    }\n",
       "</style>\n",
       "<table border=\"1\" class=\"dataframe\">\n",
       "  <thead>\n",
       "    <tr style=\"text-align: right;\">\n",
       "      <th></th>\n",
       "      <th></th>\n",
       "      <th>0</th>\n",
       "      <th>0344pm</th>\n",
       "      <th>0355pm</th>\n",
       "      <th>0416pm</th>\n",
       "      <th>0426pm</th>\n",
       "      <th>05</th>\n",
       "      <th>1</th>\n",
       "      <th>10</th>\n",
       "      <th>100</th>\n",
       "      <th>...</th>\n",
       "      <th>youre</th>\n",
       "      <th>yours</th>\n",
       "      <th>youve</th>\n",
       "      <th>yuk</th>\n",
       "      <th>zcash</th>\n",
       "      <th>zeppelin</th>\n",
       "      <th>zillow</th>\n",
       "      <th>zimbabwe</th>\n",
       "      <th>ziontechgroup</th>\n",
       "      <th>zumper</th>\n",
       "    </tr>\n",
       "  </thead>\n",
       "  <tbody>\n",
       "    <tr>\n",
       "      <th>0</th>\n",
       "      <td>2.0</td>\n",
       "      <td>0.0</td>\n",
       "      <td>0.0</td>\n",
       "      <td>0.0</td>\n",
       "      <td>0.0</td>\n",
       "      <td>0.0</td>\n",
       "      <td>0.0</td>\n",
       "      <td>0.0</td>\n",
       "      <td>0.0</td>\n",
       "      <td>0.0</td>\n",
       "      <td>...</td>\n",
       "      <td>0.0</td>\n",
       "      <td>0.0</td>\n",
       "      <td>0.0</td>\n",
       "      <td>0.0</td>\n",
       "      <td>0.0</td>\n",
       "      <td>0.0</td>\n",
       "      <td>0.0</td>\n",
       "      <td>0.0</td>\n",
       "      <td>0.0</td>\n",
       "      <td>0.0</td>\n",
       "    </tr>\n",
       "    <tr>\n",
       "      <th>1</th>\n",
       "      <td>1.0</td>\n",
       "      <td>0.0</td>\n",
       "      <td>0.0</td>\n",
       "      <td>0.0</td>\n",
       "      <td>0.0</td>\n",
       "      <td>0.0</td>\n",
       "      <td>0.0</td>\n",
       "      <td>0.0</td>\n",
       "      <td>0.0</td>\n",
       "      <td>0.0</td>\n",
       "      <td>...</td>\n",
       "      <td>0.0</td>\n",
       "      <td>0.0</td>\n",
       "      <td>0.0</td>\n",
       "      <td>0.0</td>\n",
       "      <td>0.0</td>\n",
       "      <td>0.0</td>\n",
       "      <td>0.0</td>\n",
       "      <td>0.0</td>\n",
       "      <td>0.0</td>\n",
       "      <td>0.0</td>\n",
       "    </tr>\n",
       "  </tbody>\n",
       "</table>\n",
       "<p>2 rows × 3319 columns</p>\n",
       "</div>"
      ],
      "text/plain": [
       "          0  0344pm  0355pm  0416pm  0426pm   05    1   10  100   ...    \\\n",
       "0  2.0  0.0     0.0     0.0     0.0     0.0  0.0  0.0  0.0  0.0   ...     \n",
       "1  1.0  0.0     0.0     0.0     0.0     0.0  0.0  0.0  0.0  0.0   ...     \n",
       "\n",
       "   youre  yours  youve  yuk  zcash  zeppelin  zillow  zimbabwe  ziontechgroup  \\\n",
       "0    0.0    0.0    0.0  0.0    0.0       0.0     0.0       0.0            0.0   \n",
       "1    0.0    0.0    0.0  0.0    0.0       0.0     0.0       0.0            0.0   \n",
       "\n",
       "   zumper  \n",
       "0     0.0  \n",
       "1     0.0  \n",
       "\n",
       "[2 rows x 3319 columns]"
      ]
     },
     "execution_count": 59,
     "metadata": {},
     "output_type": "execute_result"
    }
   ],
   "source": [
    "mini_corpus = mini_corpus.fillna(0)\n",
    "mini_corpus.head(2)"
   ]
  },
  {
   "cell_type": "code",
   "execution_count": 61,
   "metadata": {},
   "outputs": [
    {
     "name": "stdout",
     "output_type": "stream",
     "text": [
      "           word_0           word_1\n",
      "num                               \n",
      "0                                 \n",
      "1      artificial               ai\n",
      "2    intelligence         learning\n",
      "3            data          bigdata\n",
      "4              ai          machine\n",
      "5             big             data\n",
      "6           human              big\n",
      "7             via  machinelearning\n",
      "8         replace        analytics\n",
      "9             new               ml\n",
      "10           tech              iot\n",
      "11         python              amp\n",
      "12        writers              via\n",
      "13             us           latest\n",
      "14     technology             real\n"
     ]
    }
   ],
   "source": [
    "# Latent Dirichlet Allocation code\n",
    "N_TOPICS = 2\n",
    "lda = LatentDirichletAllocation(n_components=N_TOPICS, learning_method='online')\n",
    "lda.fit(mini_corpus)\n",
    "\n",
    "topics = pd.DataFrame(lda.components_, columns=mini_corpus.columns)\n",
    "topics = topics.transpose()\n",
    "\n",
    "def get_top_words(topic, i):\n",
    "    t = topic.sort_values(ascending=False).head(15)\n",
    "    t = pd.DataFrame({f'word_{i}': t.index})\n",
    "    t['num'] = range(15)\n",
    "    t.set_index('num', inplace=True)\n",
    "    return t\n",
    "\n",
    "c = [get_top_words(topics[i], i) for i in range(N_TOPICS)]\n",
    "result = pd.concat(c, axis=1)\n",
    "print(result)"
   ]
  },
  {
   "cell_type": "code",
   "execution_count": null,
   "metadata": {},
   "outputs": [],
   "source": []
  },
  {
   "cell_type": "code",
   "execution_count": null,
   "metadata": {},
   "outputs": [],
   "source": []
  }
 ],
 "metadata": {
  "kernelspec": {
   "display_name": "Python 3",
   "language": "python",
   "name": "python3"
  },
  "language_info": {
   "codemirror_mode": {
    "name": "ipython",
    "version": 3
   },
   "file_extension": ".py",
   "mimetype": "text/x-python",
   "name": "python",
   "nbconvert_exporter": "python",
   "pygments_lexer": "ipython3",
   "version": "3.6.5"
  }
 },
 "nbformat": 4,
 "nbformat_minor": 2
}
